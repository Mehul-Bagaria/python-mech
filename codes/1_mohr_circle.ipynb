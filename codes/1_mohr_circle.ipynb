{
 "cells": [
  {
   "cell_type": "markdown",
   "id": "60e22251",
   "metadata": {},
   "source": [
    "## Mohr circle and Principal stresses"
   ]
  },
  {
   "cell_type": "code",
   "execution_count": 1,
   "id": "c325724d",
   "metadata": {},
   "outputs": [],
   "source": [
    "import numpy as np\n",
    "import matplotlib.pyplot as plt\n",
    "%matplotlib inline"
   ]
  },
  {
   "cell_type": "code",
   "execution_count": 2,
   "id": "b3df9f51",
   "metadata": {},
   "outputs": [],
   "source": [
    "def Principal_stress(sigma_x, sigma_y, tau_xy):\n",
    "    p_stress1 = (sigma_x + sigma_y) / 2 +  (((sigma_x - sigma_y) / 2)**2 + tau_xy **2)**0.5\n",
    "    p_stress2 = (sigma_x + sigma_y) / 2 -  (((sigma_x - sigma_y) / 2)**2 + tau_xy **2)**0.5\n",
    "    print(\"The value of Principal stresses are \",p_stress1 , \" and \", p_stress2)\n",
    "    \n",
    "def Mohr_circle():\n",
    "    sigma_x = input(\"Enter the value of axial stress in X direction : \")\n",
    "    sigma_y = input(\"Enter the value of axial stress in Y direction : \")\n",
    "    tau_xy = input(\"Enter the value of shear stress : \")\n",
    "    \n",
    "    sigma_x = int(sigma_x)\n",
    "    sigma_y = int(sigma_y)\n",
    "    tau_xy = int(tau_xy)\n",
    "    \n",
    "    p_stress1 = (sigma_x + sigma_y) / 2 +  (((sigma_x - sigma_y) / 2)**2 + tau_xy **2)**0.5\n",
    "    p_stress2 = (sigma_x + sigma_y) / 2 -  (((sigma_x - sigma_y) / 2)**2 + tau_xy **2)**0.5\n",
    "    print(\"\\nThe value of Principal stresses are \",p_stress1 , \" and \", p_stress2)\n",
    "    radius = (p_stress1 - p_stress2) / 2\n",
    "    centre_x = (sigma_x + sigma_y) / 2\n",
    "    centre_y = 0\n",
    "    \n",
    "    X = []\n",
    "    Y = []\n",
    "    X_new = []\n",
    "    \n",
    "    for i in np.linspace( 0 , 2 * np.pi , 150 ):\n",
    "        x = radius * np.cos( i ) \n",
    "        x_new = x + centre_x\n",
    "        y = radius * np.sin( i )\n",
    "\n",
    "        X.append(x)\n",
    "        X_new.append(x_new)\n",
    "        Y.append(y)       \n",
    "\n",
    "    # Plot vertical axis\n",
    "    a = np.linspace(-1.5*radius, 1.5*radius,100)\n",
    "    b = a*0\n",
    "    plt.plot(b, a, color = 'b', linestyle='dashed')\n",
    "    \n",
    "    # Plot horizontal axis\n",
    "    a = np.linspace(0, p_stress1*1.2, 100)\n",
    "    b = a*0\n",
    "    plt.plot(a, b, color = 'b', linestyle='dashed')\n",
    "    \n",
    "    # Plot the mohr circle\n",
    "    plt.plot(X_new, Y, color = 'y')\n",
    "    \n",
    "    # Plot principal stress\n",
    "    plt.plot((p_stress1), (0), 'o', color = 'r', label = 'P-stress 1')\n",
    "    plt.plot((p_stress2), (0), 'o', color = 'b', label = 'P-stress 2')\n",
    "    \n",
    "    plt.xlabel('Sigma X')\n",
    "    plt.ylabel('Sigma Y')\n",
    "    plt.title('Mohr Circle')\n",
    "    plt.legend()\n",
    "    \n",
    "    # Export plots as png and pdf\n",
    "    plt.savefig(\"output/mohr_circle.png\")\n",
    "    plt.savefig(\"output/mohr_circle.pdf\")"
   ]
  },
  {
   "cell_type": "code",
   "execution_count": 3,
   "id": "245559c7",
   "metadata": {},
   "outputs": [
    {
     "name": "stdout",
     "output_type": "stream",
     "text": [
      "The value of Principal stresses are  1.0  and  1.0\n"
     ]
    }
   ],
   "source": [
    "Principal_stress(1,1,0)"
   ]
  },
  {
   "cell_type": "code",
   "execution_count": 4,
   "id": "a7b41133",
   "metadata": {},
   "outputs": [
    {
     "name": "stdout",
     "output_type": "stream",
     "text": [
      "Enter the value of axial stress in X direction : 2\n",
      "Enter the value of axial stress in Y direction : 2\n",
      "Enter the value of shear stress : 1\n",
      "\n",
      "The value of Principal stresses are  3.0  and  1.0\n"
     ]
    },
    {
     "data": {
      "image/png": "[encoded data removed]",
      "text/plain": [
       "<Figure size 432x288 with 1 Axes>"
      ]
     },
     "metadata": {
      "needs_background": "light"
     },
     "output_type": "display_data"
    }
   ],
   "source": [
    "Mohr_circle()"
   ]
  },
  {
   "cell_type": "code",
   "execution_count": null,
   "id": "cef5c1db",
   "metadata": {},
   "outputs": [],
   "source": []
  }
 ],
 "metadata": {
  "kernelspec": {
   "display_name": "Python 3",
   "language": "python",
   "name": "python3"
  },
  "language_info": {
   "codemirror_mode": {
    "name": "ipython",
    "version": 3
   },
   "file_extension": ".py",
   "mimetype": "text/x-python",
   "name": "python",
   "nbconvert_exporter": "python",
   "pygments_lexer": "ipython3",
   "version": "3.8.8"
  }
 },
 "nbformat": 4,
 "nbformat_minor": 5
}
