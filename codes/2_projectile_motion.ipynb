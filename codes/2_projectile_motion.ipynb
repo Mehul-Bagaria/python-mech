{
 "cells": [
  {
   "cell_type": "markdown",
   "id": "f2e816be",
   "metadata": {},
   "source": [
    "## Projectile Motion\n",
    "The Python code for finding the trajectory, range, time of flight and maximum height of the projectile under the influence of gravitational field."
   ]
  },
  {
   "cell_type": "code",
   "execution_count": 1,
   "id": "8316e706",
   "metadata": {},
   "outputs": [],
   "source": [
    "import numpy as np\n",
    "import matplotlib.pyplot as plt\n",
    "%matplotlib inline"
   ]
  },
  {
   "cell_type": "code",
   "execution_count": 6,
   "id": "25b37219",
   "metadata": {},
   "outputs": [],
   "source": [
    "def projectile_motion(u, theta):\n",
    "    g = 9.8 #m/s^2\n",
    "    theta = theta* np.pi / 180\n",
    "    time_flight = 2*u*np.sin(theta) / g\n",
    "    maxi_height = (u * np.sin(theta))**2 / g\n",
    "    two_theta = 2*theta\n",
    "    print(two_theta)\n",
    "    horiz_range = (u**2 * np.sin(two_theta)) / g\n",
    "    print(\"The horizontal range is: \", horiz_range)\n",
    "    print(\"The maximum vertical height is :\", maxi_height)\n",
    "    print(\"The total time of flight is :\", time_flight)"
   ]
  },
  {
   "cell_type": "code",
   "execution_count": 7,
   "id": "97cce7b0",
   "metadata": {},
   "outputs": [
    {
     "name": "stdout",
     "output_type": "stream",
     "text": [
      "1.7453292519943295\n",
      "The horizontal range is:  160.78493926729925\n",
      "The maximum vertical height is : 95.80801450342287\n",
      "The total time of flight is : 6.253424025461045\n"
     ]
    }
   ],
   "source": [
    "projectile_motion(40,50)"
   ]
  },
  {
   "cell_type": "code",
   "execution_count": 8,
   "id": "e561d377",
   "metadata": {},
   "outputs": [
    {
     "data": {
      "text/plain": [
       "1.0"
      ]
     },
     "execution_count": 8,
     "metadata": {},
     "output_type": "execute_result"
    }
   ],
   "source": [
    "np.sin(np.pi/2)"
   ]
  },
  {
   "cell_type": "code",
   "execution_count": 5,
   "id": "f51ac113",
   "metadata": {},
   "outputs": [
    {
     "name": "stdout",
     "output_type": "stream",
     "text": [
      "11.239275731617637\n"
     ]
    }
   ],
   "source": [
    "u, theta = 40, 50\n",
    "g  =9.8\n",
    "maxi_height = (u * np.sin(theta))**2 / g\n",
    "print(maxi_height)\n",
    "Horiz_range = 1 * np.sin(theta)/g"
   ]
  },
  {
   "cell_type": "code",
   "execution_count": null,
   "id": "db117191",
   "metadata": {},
   "outputs": [],
   "source": []
  },
  {
   "cell_type": "code",
   "execution_count": null,
   "id": "d1e77478",
   "metadata": {},
   "outputs": [],
   "source": []
  }
 ],
 "metadata": {
  "kernelspec": {
   "display_name": "Python 3",
   "language": "python",
   "name": "python3"
  },
  "language_info": {
   "codemirror_mode": {
    "name": "ipython",
    "version": 3
   },
   "file_extension": ".py",
   "mimetype": "text/x-python",
   "name": "python",
   "nbconvert_exporter": "python",
   "pygments_lexer": "ipython3",
   "version": "3.8.8"
  }
 },
 "nbformat": 4,
 "nbformat_minor": 5
}
