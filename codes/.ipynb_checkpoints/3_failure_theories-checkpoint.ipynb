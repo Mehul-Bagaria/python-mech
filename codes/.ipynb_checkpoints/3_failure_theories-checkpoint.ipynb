{
 "cells": [
  {
   "cell_type": "markdown",
   "id": "9bc1d834",
   "metadata": {},
   "source": [
    "## Failure theories\n",
    "**Reference** - [Theory](http://www.uptti.ac.in/classroom-content/data/Theories-of-failure.pdf)"
   ]
  },
  {
   "cell_type": "code",
   "execution_count": 18,
   "id": "b2a63094",
   "metadata": {},
   "outputs": [],
   "source": [
    "import numpy as np\n",
    "import matplotlib.pyplot as plt\n",
    "from termcolor import colored"
   ]
  },
  {
   "cell_type": "code",
   "execution_count": 2,
   "id": "fb1056a5",
   "metadata": {},
   "outputs": [],
   "source": [
    "def rankine():\n",
    "    try:\n",
    "        # Take input yield stress and factor of stress\n",
    "        yield_stress = input(\"Enter the yield or ultimate stress of the material : \")\n",
    "        yield_stress = abs(int(yield_stress))\n",
    "        fos = input(\"Enter the value of factor of safety : \")\n",
    "        fos = abs(int(fos))\n",
    "\n",
    "        per_stress = yield_stress / fos\n",
    "\n",
    "        # Take input stress values\n",
    "        sigma_x = input(\"Enter the value of axial stress in X direction : \")\n",
    "        sigma_y = input(\"Enter the value of axial stress in Y direction : \")\n",
    "        tau_xy = input(\"Enter the value of shear stress : \")\n",
    "        print(\"\\n\")\n",
    "\n",
    "        # Convert str to int\n",
    "        sigma_x = int(sigma_x)\n",
    "        sigma_y = int(sigma_y)\n",
    "        tau_xy = int(tau_xy)\n",
    "\n",
    "        # Principal and maximum shear stress values\n",
    "        p_stress1 = (sigma_x + sigma_y) / 2 +  (((sigma_x - sigma_y) / 2)**2 + tau_xy **2)**0.5\n",
    "        p_stress2 = (sigma_x + sigma_y) / 2 -  (((sigma_x - sigma_y) / 2)**2 + tau_xy **2)**0.5\n",
    "        max_shear = (((sigma_x - sigma_y) / 2)**2 + tau_xy **2)**0.5\n",
    "\n",
    "        print(\"\\nThe value of Principal stresses are \",p_stress1 , \" and \", p_stress2)\n",
    "\n",
    "        # Check material will fail or not\n",
    "        if (abs(p_stress1) or abs(p_stress2)) > abs(per_stress):\n",
    "            print(colored(\"The value of Principal stress is higher than the permissible. \\nMaterial will fail !\", 'red'))\n",
    "        else:\n",
    "            print(colored(\"The value of Principal stress is within the permissible range. \\nMaterial will work !\", 'blue'))\n",
    "\n",
    "        # Plot vertical axis\n",
    "        if abs(p_stress2) > per_stress:\n",
    "            y_limit = 1.25*abs(p_stress2)\n",
    "        else:\n",
    "            y_limit = 1.25*per_stress\n",
    "        a = np.linspace(-y_limit, y_limit,100)\n",
    "        b = a*0\n",
    "        plt.plot(b, a, color = 'k', linestyle='dashed')\n",
    "\n",
    "        # Plot horizontal axis\n",
    "        if abs(p_stress1) >per_stress:\n",
    "            y_limit = 1.25*abs(p_stress1)\n",
    "        else:\n",
    "            y_limit = 1.25*per_stress\n",
    "        a = np.linspace(-y_limit, y_limit,100)\n",
    "        b = a*0\n",
    "        plt.plot(a, b, color = 'k', linestyle='dashed')    \n",
    "\n",
    "        # Define the coordinates of the permissible stress rectangle\n",
    "        point1 = [per_stress,per_stress]\n",
    "        point2 = [per_stress, -per_stress]\n",
    "        point3 = [-per_stress, -per_stress]\n",
    "        point4 = [-per_stress, per_stress]\n",
    "\n",
    "        # Plot the rectangle\n",
    "        plt.plot((point1[0], point2[0], point3[0], point4[0], point1[0]), (point1[1], point2[1], point3[1], point4[1], point1[0]), '-o', linestyle=\"--\", label = 'Permissible limit')\n",
    "        plt.plot((p_stress1), (p_stress2), 'o', color = 'r', label = 'P-stress')\n",
    "        plt.title(\"Rankine's Theory\")\n",
    "        plt.xlabel('\\u03C3'+ \"1\")\n",
    "        plt.ylabel('\\u03C3'+ \"2\")\n",
    "        plt.grid()\n",
    "        plt.legend()\n",
    "    \n",
    "    except Exception as e:\n",
    "        print(e)\n",
    "        print(\"Sorry, that's not a valid input !\")"
   ]
  },
  {
   "cell_type": "code",
   "execution_count": 3,
   "id": "17fa5fd6",
   "metadata": {},
   "outputs": [
    {
     "name": "stdout",
     "output_type": "stream",
     "text": [
      "Enter the yield or ultimate stress of the material : 40\n",
      "Enter the value of factor of safety : 2\n",
      "Enter the value of axial stress in X direction : 10\n",
      "Enter the value of axial stress in Y direction : 20\n",
      "Enter the value of shear stress : 5\n",
      "\n",
      "\n",
      "\n",
      "The value of Principal stresses are  22.071067811865476  and  7.9289321881345245\n",
      "\u001b[31mThe value of Principal stress is higher than the permissible. \n",
      "Material will fail !\u001b[0m\n"
     ]
    },
    {
     "data": {
      "image/png": "[encoded data removed]",
      "text/plain": [
       "<Figure size 432x288 with 1 Axes>"
      ]
     },
     "metadata": {
      "needs_background": "light"
     },
     "output_type": "display_data"
    }
   ],
   "source": [
    "rankine()"
   ]
  },
  {
   "cell_type": "code",
   "execution_count": 4,
   "id": "b46490c7",
   "metadata": {},
   "outputs": [
    {
     "name": "stdout",
     "output_type": "stream",
     "text": [
      "Enter the yield or ultimate stress of the material : 40\n",
      "Enter the value of factor of safety : 2\n",
      "Enter the value of axial stress in X direction : 10\n",
      "Enter the value of axial stress in Y direction : 10\n",
      "Enter the value of shear stress : 2\n",
      "\n",
      "\n",
      "\n",
      "The value of Principal stresses are  12.0  and  8.0\n",
      "\u001b[34mThe value of Principal stress is within the permissible range. \n",
      "Material will work !\u001b[0m\n"
     ]
    },
    {
     "data": {
      "image/png": "[encoded data removed]",
      "text/plain": [
       "<Figure size 432x288 with 1 Axes>"
      ]
     },
     "metadata": {
      "needs_background": "light"
     },
     "output_type": "display_data"
    }
   ],
   "source": [
    "rankine()"
   ]
  },
  {
   "cell_type": "code",
   "execution_count": 26,
   "id": "50d3f887",
   "metadata": {},
   "outputs": [
    {
     "ename": "SyntaxError",
     "evalue": "invalid syntax (<ipython-input-26-25d46f84a713>, line 32)",
     "output_type": "error",
     "traceback": [
      "\u001b[1;36m  File \u001b[1;32m\"<ipython-input-26-25d46f84a713>\"\u001b[1;36m, line \u001b[1;32m32\u001b[0m\n\u001b[1;33m    if (((abs(p_stress1))/2 or ((abs(p_stress2))/2)) >abs(per_stress):\u001b[0m\n\u001b[1;37m                                                                     ^\u001b[0m\n\u001b[1;31mSyntaxError\u001b[0m\u001b[1;31m:\u001b[0m invalid syntax\n"
     ]
    }
   ],
   "source": [
    "def guest_tresca():\n",
    "    try:\n",
    "        # Take input yield stress and factor of stress\n",
    "        yield_stress = input(\"Enter the yield or ultimate stress of the material : \")\n",
    "        yield_stress = abs(int(yield_stress))\n",
    "        fos = input(\"Enter the value of factor of safety : \")\n",
    "        fos = abs(int(fos))\n",
    "\n",
    "        per_stress = yield_stress/(2*fos)\n",
    "\n",
    "        # Take input stress values\n",
    "        sigma_x = input(\"Enter the value of axial stress in X direction : \")\n",
    "        sigma_y = input(\"Enter the value of axial stress in Y direction : \")\n",
    "        tau_xy = input(\"Enter the value of shear stress : \")\n",
    "        print(\"\\n\")\n",
    "\n",
    "        # Convert str to int\n",
    "        sigma_x = int(sigma_x)\n",
    "        sigma_y = int(sigma_y)\n",
    "        tau_xy = int(tau_xy)\n",
    "\n",
    "        # Principal and maximum shear stress values\n",
    "        p_stress1 = (sigma_x + sigma_y) / 2 +  (((sigma_x - sigma_y) / 2)**2 + tau_xy **2)**0.5\n",
    "        p_stress2 = (sigma_x + sigma_y) / 2 -  (((sigma_x - sigma_y) / 2)**2 + tau_xy **2)**0.5\n",
    "        max_shear = (((sigma_x - sigma_y) / 2)**2 + tau_xy **2)**0.5\n",
    "        max_shear = (p_stress1 - p_stress2)/2\n",
    "\n",
    "        print(\"\\nThe value of Principal stresses are \",p_stress1 , \" and \", p_stress2)\n",
    "\n",
    "        # Check material will fail or not\n",
    "        if np.sign(p_stress1) == np.sign(p_stress2):\n",
    "            if (((abs(p_stress1))/2 or ((abs(p_stress2))/2)) > abs(per_stress):\n",
    "                print(colored(\"The value of shear stress is higher than the permissible limit. \\nMaterial will fail !\", 'red')                \n",
    "        elif abs(max_shear) > abs(per_stress):\n",
    "            print(colored(\"The value of shear stress is higher than the permissible limit. \\nMaterial will fail !\", 'red'))\n",
    "        else:\n",
    "            print(colored(\"The value of shear stress is within the permissible limit. \\nMaterial will work !\", 'blue'))\n",
    "            \n",
    "        # Plot vertical axis\n",
    "        if abs(p_stress2) > per_stress:\n",
    "            y_limit = 1.25*abs(p_stress2)\n",
    "        else:\n",
    "            y_limit = 1.25*per_stress\n",
    "        a = np.linspace(-y_limit, y_limit,100)\n",
    "        b = a*0\n",
    "        plt.plot(b, a, color = 'k', linestyle='dashed')\n",
    "\n",
    "        # Plot horizontal axis\n",
    "        if abs(p_stress1) >per_stress:\n",
    "            y_limit = 1.25*abs(p_stress1)\n",
    "        else:\n",
    "            y_limit = 1.25*per_stress\n",
    "        a = np.linspace(-y_limit, y_limit,100)\n",
    "        b = a*0\n",
    "        plt.plot(a, b, color = 'k', linestyle='dashed')\n",
    "        \n",
    "        # Define the coordinates of the permissible stress rectangle\n",
    "        point1 = [per_stress,per_stress]\n",
    "        point2 = [per_stress, 0]\n",
    "        point3 = [0, -per_stress]\n",
    "        point4 = [-per_stress, -per_stress]\n",
    "        point5 = [-per_stress, 0]  \n",
    "        point6 = [0, per_stress]        \n",
    "        \n",
    "        # Plot the rectangle\n",
    "        plt.plot((point1[0], point2[0], point3[0], point4[0], point5[0], point6[0], point1[0]), (point1[1], point2[1], point3[1], point4[1], point5[1], point6[1], point1[1]), '-o', linestyle=\"--\", label = 'Permissible limit')\n",
    "        plt.plot((p_stress1), (p_stress2), 'o', color = 'r', label = 'P-stress')\n",
    "        plt.title(\"Guest's or Tresca's Theory\")\n",
    "        plt.xlabel('\\u03C3'+ \"1\")\n",
    "        plt.ylabel('\\u03C3'+ \"2\")\n",
    "        plt.grid()\n",
    "        plt.legend()\n",
    "        \n",
    "    except Exception as e:\n",
    "        print(e)\n",
    "        print(\"Sorry, that's not a valid input !\")"
   ]
  },
  {
   "cell_type": "code",
   "execution_count": 14,
   "id": "1d66f2a6",
   "metadata": {},
   "outputs": [
    {
     "name": "stdout",
     "output_type": "stream",
     "text": [
      "Enter the yield or ultimate stress of the material : 40\n",
      "Enter the value of factor of safety : 2\n",
      "Enter the value of axial stress in X direction : 10\n",
      "Enter the value of axial stress in Y direction : 15\n",
      "Enter the value of shear stress : 3\n",
      "\n",
      "\n",
      "\n",
      "The value of Principal stresses are  16.405124837953327  and  8.594875162046673\n",
      "\u001b[34mThe value of shear stress is within the permissible limit. \n",
      "Material will work !\u001b[0m\n"
     ]
    },
    {
     "data": {
      "image/png": "[encoded data removed]",
      "text/plain": [
       "<Figure size 432x288 with 1 Axes>"
      ]
     },
     "metadata": {
      "needs_background": "light"
     },
     "output_type": "display_data"
    }
   ],
   "source": [
    "guest_tresca()"
   ]
  },
  {
   "cell_type": "code",
   "execution_count": 24,
   "id": "3615f137",
   "metadata": {},
   "outputs": [],
   "source": [
    "if np.sign(-10) == np.sign(25):\n",
    "    print('yes')"
   ]
  },
  {
   "cell_type": "code",
   "execution_count": 29,
   "id": "635939d7",
   "metadata": {},
   "outputs": [],
   "source": [
    "if np.sign(10)/2 == 1:\n",
    "    print('yes')"
   ]
  },
  {
   "cell_type": "code",
   "execution_count": 32,
   "id": "31128a77",
   "metadata": {},
   "outputs": [
    {
     "data": {
      "text/plain": [
       "int"
      ]
     },
     "execution_count": 32,
     "metadata": {},
     "output_type": "execute_result"
    }
   ],
   "source": [
    "type(int(np.sign(-1)))"
   ]
  },
  {
   "cell_type": "code",
   "execution_count": 31,
   "id": "730e25eb",
   "metadata": {},
   "outputs": [
    {
     "data": {
      "text/plain": [
       "int"
      ]
     },
     "execution_count": 31,
     "metadata": {},
     "output_type": "execute_result"
    }
   ],
   "source": [
    "type(1)"
   ]
  },
  {
   "cell_type": "code",
   "execution_count": null,
   "id": "15d60d0e",
   "metadata": {},
   "outputs": [],
   "source": []
  }
 ],
 "metadata": {
  "kernelspec": {
   "display_name": "Python 3",
   "language": "python",
   "name": "python3"
  },
  "language_info": {
   "codemirror_mode": {
    "name": "ipython",
    "version": 3
   },
   "file_extension": ".py",
   "mimetype": "text/x-python",
   "name": "python",
   "nbconvert_exporter": "python",
   "pygments_lexer": "ipython3",
   "version": "3.8.8"
  }
 },
 "nbformat": 4,
 "nbformat_minor": 5
}
