{
 "cells": [
  {
   "cell_type": "markdown",
   "id": "9bc1d834",
   "metadata": {},
   "source": [
    "## Failure theories\n",
    "Theories of failure are set of theories that determines whether a structure will fail or not. Since, the behaviour of the brittle and ductile material is different. Therefore, the failure of these materials are also different. This lead to formation of the Theories of failure.\n",
    "\n",
    "**In total there are five major theories of failure:**\n",
    "* Maximum Principal Stress theory also known as RANKINE’S THEORY.\n",
    "* Maximum Shear Stress theory or GUEST AND TRESCA’S THEORY.\n",
    "* Maximum Principal Strain theory also known as St. VENANT’S THEORY.\n",
    "* Maximum Distortion Energy theory or VONMISES AND HENCKY’S THEORY.\n",
    "* Total Strain Energy theory or HAIGH’S THEORY.\n",
    "\n",
    "The principal stresses of the structure subjected to loading, can be plotted in the graph. If the state of stress lies outside the curve formed by **permissible limit**. Then, it can be considered that the structure will fail.\n",
    "\n",
    "**Reference** - [Theory](http://www.uptti.ac.in/classroom-content/data/Theories-of-failure.pdf)\n",
    "\n",
    "*For a planar stress system, i.e., stress is acting on only one plane !!*"
   ]
  },
  {
   "cell_type": "markdown",
   "id": "723ca620",
   "metadata": {},
   "source": [
    "### Maximum Principal Stress theory also known as RANKINE’S THEORY\n",
    "When the maximum Principal stress generated within the structure is within the permissible limit.\n",
    "\n",
    "Mathematically, $\\sigma_1 \\leq \\frac{\\sigma_y}{fos}$ => structure will work  \n",
    "where, $\\sigma_1$ is the principal stress  \n",
    "$\\sigma_y$ is the yield stress and $fos$ is factor of safety"
   ]
  },
  {
   "cell_type": "code",
   "execution_count": 4,
   "id": "b2a63094",
   "metadata": {},
   "outputs": [],
   "source": [
    "import numpy as np\n",
    "import matplotlib.pyplot as plt\n",
    "from termcolor import colored"
   ]
  },
  {
   "cell_type": "code",
   "execution_count": 2,
   "id": "fb1056a5",
   "metadata": {},
   "outputs": [],
   "source": [
    "def rankine():\n",
    "    try:\n",
    "        # Take input yield stress and factor of stress\n",
    "        yield_stress = input(\"Enter the yield or ultimate stress of the material : \")\n",
    "        yield_stress = abs(int(yield_stress))\n",
    "        fos = input(\"Enter the value of factor of safety : \")\n",
    "        fos = abs(int(fos))\n",
    "\n",
    "        per_stress = yield_stress / fos\n",
    "\n",
    "        # Take input stress values\n",
    "        sigma_x = input(\"Enter the value of axial stress in X direction : \")\n",
    "        sigma_y = input(\"Enter the value of axial stress in Y direction : \")\n",
    "        tau_xy = input(\"Enter the value of shear stress : \")\n",
    "        print(\"\\n\")\n",
    "\n",
    "        # Convert str to int\n",
    "        sigma_x = int(sigma_x)\n",
    "        sigma_y = int(sigma_y)\n",
    "        tau_xy = int(tau_xy)\n",
    "\n",
    "        # Principal and maximum shear stress values\n",
    "        p_stress1 = (sigma_x + sigma_y) / 2 +  (((sigma_x - sigma_y) / 2)**2 + tau_xy **2)**0.5\n",
    "        p_stress2 = (sigma_x + sigma_y) / 2 -  (((sigma_x - sigma_y) / 2)**2 + tau_xy **2)**0.5\n",
    "        max_shear = (((sigma_x - sigma_y) / 2)**2 + tau_xy **2)**0.5\n",
    "\n",
    "        print(\"\\nThe value of Principal stresses are \",p_stress1 , \" and \", p_stress2)\n",
    "\n",
    "        # Check material will fail or not\n",
    "        if (abs(p_stress1) or abs(p_stress2)) > abs(per_stress):\n",
    "            print(colored(\"The value of Principal stress is higher than the permissible. \\nMaterial will fail !\", 'red'))\n",
    "        else:\n",
    "            print(colored(\"The value of Principal stress is within the permissible range. \\nMaterial will work !\", 'blue'))\n",
    "\n",
    "        # Plot vertical axis\n",
    "        if abs(p_stress2) > per_stress:\n",
    "            y_limit = 1.25*abs(p_stress2)\n",
    "        else:\n",
    "            y_limit = 1.25*per_stress\n",
    "        a = np.linspace(-y_limit, y_limit,100)\n",
    "        b = a*0\n",
    "        plt.plot(b, a, color = 'k', linestyle='dashed')\n",
    "\n",
    "        # Plot horizontal axis\n",
    "        if abs(p_stress1) >per_stress:\n",
    "            y_limit = 1.25*abs(p_stress1)\n",
    "        else:\n",
    "            y_limit = 1.25*per_stress\n",
    "        a = np.linspace(-y_limit, y_limit,100)\n",
    "        b = a*0\n",
    "        plt.plot(a, b, color = 'k', linestyle='dashed')    \n",
    "\n",
    "        # Define the coordinates of the permissible stress rectangle\n",
    "        point1 = [per_stress,per_stress]\n",
    "        point2 = [per_stress, -per_stress]\n",
    "        point3 = [-per_stress, -per_stress]\n",
    "        point4 = [-per_stress, per_stress]\n",
    "\n",
    "        # Plot the rectangle\n",
    "        plt.plot((point1[0], point2[0], point3[0], point4[0], point1[0]), (point1[1], point2[1], point3[1], point4[1], point1[0]), '-o', linestyle=\"--\", label = 'Permissible limit')\n",
    "        plt.plot((p_stress1), (p_stress2), 'o', color = 'r', label = 'P-stress')\n",
    "        plt.title(\"Rankine's Theory\")\n",
    "        plt.xlabel('\\u03C3'+ \"1\")\n",
    "        plt.ylabel('\\u03C3'+ \"2\")\n",
    "        plt.grid()\n",
    "        plt.legend()\n",
    "    \n",
    "    except Exception as e:\n",
    "        print(e)\n",
    "        print(\"Sorry, that's not a valid input !\")"
   ]
  },
  {
   "cell_type": "code",
   "execution_count": 3,
   "id": "17fa5fd6",
   "metadata": {},
   "outputs": [
    {
     "name": "stdout",
     "output_type": "stream",
     "text": [
      "Enter the yield or ultimate stress of the material : 40\n",
      "Enter the value of factor of safety : 2\n",
      "Enter the value of axial stress in X direction : 10\n",
      "Enter the value of axial stress in Y direction : 20\n",
      "Enter the value of shear stress : 5\n",
      "\n",
      "\n",
      "\n",
      "The value of Principal stresses are  22.071067811865476  and  7.9289321881345245\n",
      "\u001b[31mThe value of Principal stress is higher than the permissible. \n",
      "Material will fail !\u001b[0m\n"
     ]
    },
    {
     "data": {
      "image/png": "[encoded data removed]",
      "text/plain": [
       "<Figure size 432x288 with 1 Axes>"
      ]
     },
     "metadata": {
      "needs_background": "light"
     },
     "output_type": "display_data"
    }
   ],
   "source": [
    "rankine()"
   ]
  },
  {
   "cell_type": "code",
   "execution_count": 4,
   "id": "b46490c7",
   "metadata": {},
   "outputs": [
    {
     "name": "stdout",
     "output_type": "stream",
     "text": [
      "Enter the yield or ultimate stress of the material : 40\n",
      "Enter the value of factor of safety : 2\n",
      "Enter the value of axial stress in X direction : 15\n",
      "Enter the value of axial stress in Y direction : 10\n",
      "Enter the value of shear stress : 5\n",
      "\n",
      "\n",
      "\n",
      "The value of Principal stresses are  18.090169943749473  and  6.9098300562505255\n",
      "\u001b[34mThe value of Principal stress is within the permissible range. \n",
      "Material will work !\u001b[0m\n"
     ]
    },
    {
     "data": {
      "image/png": "[encoded data removed]",
      "text/plain": [
       "<Figure size 432x288 with 1 Axes>"
      ]
     },
     "metadata": {
      "needs_background": "light"
     },
     "output_type": "display_data"
    }
   ],
   "source": [
    "rankine()"
   ]
  },
  {
   "cell_type": "markdown",
   "id": "8cae8acc",
   "metadata": {},
   "source": [
    "### Maximum Shear Stress theory or GUEST AND TRESCA’S THEORY\n",
    "When the maximum shear stress generated within the structure is within the permissible limit.  \n",
    "\n",
    "Mathematically, $ \\frac{\\sigma_1}{2} and \\frac{\\sigma_1 - \\sigma_2}{2} \\leq \\frac{\\sigma_y}{fos}$ => structure will work  \n",
    "where, $\\sigma_1$ and $\\sigma_2$ are the principal stresses  \n",
    "$\\sigma_y$ is the yield stress and $fos$ is factor of safety"
   ]
  },
  {
   "cell_type": "code",
   "execution_count": 5,
   "id": "50d3f887",
   "metadata": {},
   "outputs": [],
   "source": [
    "def guest_tresca():\n",
    "    try:\n",
    "        # Take input yield stress and factor of stress\n",
    "        yield_stress = input(\"Enter the yield or ultimate stress of the material : \")\n",
    "        yield_stress = abs(int(yield_stress))\n",
    "        fos = input(\"Enter the value of factor of safety : \")\n",
    "        fos = abs(int(fos))\n",
    "\n",
    "        per_stress = yield_stress/fos\n",
    "\n",
    "        # Take input stress values\n",
    "        sigma_x = input(\"Enter the value of axial stress in X direction : \")\n",
    "        sigma_y = input(\"Enter the value of axial stress in Y direction : \")\n",
    "        tau_xy = input(\"Enter the value of shear stress : \")\n",
    "        print(\"\\n\")\n",
    "\n",
    "        # Convert str to int\n",
    "        sigma_x = int(sigma_x)\n",
    "        sigma_y = int(sigma_y)\n",
    "        tau_xy = int(tau_xy)\n",
    "\n",
    "        # Principal and maximum shear stress values\n",
    "        p_stress1 = (sigma_x + sigma_y) / 2 +  (((sigma_x - sigma_y) / 2)**2 + tau_xy **2)**0.5\n",
    "        p_stress2 = (sigma_x + sigma_y) / 2 -  (((sigma_x - sigma_y) / 2)**2 + tau_xy **2)**0.5\n",
    "        max_shear = (((sigma_x - sigma_y) / 2)**2 + tau_xy **2)**0.5\n",
    "        max_shear = (p_stress1 - p_stress2)/2\n",
    "\n",
    "        print(\"\\nThe value of Principal stresses are \",p_stress1 , \" and \", p_stress2)\n",
    "\n",
    "        # Check material will fail or not\n",
    "        if np.sign(p_stress1) == np.sign(p_stress2):              \n",
    "            if (abs(p_stress1) or abs(p_stress2)) > abs(per_stress):\n",
    "                print(colored(\"The value of shear stress is higher than the permissible limit. \\nMaterial will fail !\", 'red'))\n",
    "            else:\n",
    "                print(colored(\"The value of shear stress is within the permissible limit. \\nMaterial will work !\", 'blue'))\n",
    "        elif abs(max_shear)> (0.5*per_stress):\n",
    "            print(colored(\"The value of shear stress is higher than the permissible limit. \\nMaterial will fail !\", 'red'))\n",
    "        else:\n",
    "            print(colored(\"The value of shear stress is within the permissible limit. \\nMaterial will work !\", 'blue'))\n",
    "            \n",
    "        # Plot vertical axis\n",
    "        if abs(p_stress2) > per_stress:\n",
    "            y_limit = 1.25*abs(p_stress2)\n",
    "        else:\n",
    "            y_limit = 1.25*per_stress\n",
    "        a = np.linspace(-y_limit, y_limit,100)\n",
    "        b = a*0\n",
    "        plt.plot(b, a, color = 'k', linestyle='dashed')\n",
    "\n",
    "        # Plot horizontal axis\n",
    "        if abs(p_stress1) >per_stress:\n",
    "            y_limit = 1.25*abs(p_stress1)\n",
    "        else:\n",
    "            y_limit = 1.25*per_stress\n",
    "        a = np.linspace(-y_limit, y_limit,100)\n",
    "        b = a*0\n",
    "        plt.plot(a, b, color = 'k', linestyle='dashed')\n",
    "        \n",
    "        # Define the coordinates of the permissible stress rectangle\n",
    "        point1 = [per_stress,per_stress]\n",
    "        point2 = [per_stress, 0]\n",
    "        point3 = [0, -per_stress]\n",
    "        point4 = [-per_stress, -per_stress]\n",
    "        point5 = [-per_stress, 0]  \n",
    "        point6 = [0, per_stress]        \n",
    "        \n",
    "        # Plot the rectangle\n",
    "        plt.plot((point1[0], point2[0], point3[0], point4[0], point5[0], point6[0], point1[0]), (point1[1], point2[1], point3[1], point4[1], point5[1], point6[1], point1[1]), '-o', linestyle=\"--\", label = 'Permissible limit')\n",
    "        plt.plot((p_stress1), (p_stress2), 'o', color = 'r', label = 'P-stress')\n",
    "        plt.title(\"Guest's or Tresca's Theory\")\n",
    "        plt.xlabel('\\u03C3'+ \"1\")\n",
    "        plt.ylabel('\\u03C3'+ \"2\")\n",
    "        plt.grid()\n",
    "        plt.legend()\n",
    "        \n",
    "    except Exception as e:\n",
    "        print(e)\n",
    "        print(\"Sorry, that's not a valid input !\")"
   ]
  },
  {
   "cell_type": "code",
   "execution_count": 6,
   "id": "1d66f2a6",
   "metadata": {},
   "outputs": [
    {
     "name": "stdout",
     "output_type": "stream",
     "text": [
      "Enter the yield or ultimate stress of the material : 40\n",
      "Enter the value of factor of safety : 2\n",
      "Enter the value of axial stress in X direction : 15\n",
      "Enter the value of axial stress in Y direction : 10\n",
      "Enter the value of shear stress : 5\n",
      "\n",
      "\n",
      "\n",
      "The value of Principal stresses are  18.090169943749473  and  6.9098300562505255\n",
      "\u001b[34mThe value of shear stress is within the permissible limit. \n",
      "Material will work !\u001b[0m\n"
     ]
    },
    {
     "data": {
      "image/png": "[encoded data removed]",
      "text/plain": [
       "<Figure size 432x288 with 1 Axes>"
      ]
     },
     "metadata": {
      "needs_background": "light"
     },
     "output_type": "display_data"
    }
   ],
   "source": [
    "guest_tresca()"
   ]
  },
  {
   "cell_type": "markdown",
   "id": "0efea475",
   "metadata": {},
   "source": [
    "### Maximum Principal Strain theory also known as St. VENANT’S THEORY\n",
    "When the Principal strain generated within the structure is within the permissible limit.\n",
    "\n",
    "Mathematically, $\\frac{1}{E} (\\sigma_1 - \\mu \\sigma_2) \\leq \\frac{1}{E} \\frac{\\sigma_y}{fos}$ => structure will work  \n",
    "where, $\\sigma_1$ and $\\sigma_2$ are the principal stresses  \n",
    "$\\sigma_y$ is the yield stress and $fos$ is factor of safety  \n",
    "$E$ is the Young's Modulus of the material and $\\mu$ is the Poisson's ratio"
   ]
  },
  {
   "cell_type": "code",
   "execution_count": 93,
   "id": "3818c85a",
   "metadata": {},
   "outputs": [],
   "source": [
    "def st_venant():\n",
    "    try:\n",
    "        # Take input yield stress and factor of stress\n",
    "        yield_stress = input(\"Enter the yield or ultimate stress of the material : \")\n",
    "        yield_stress = abs(int(yield_stress))\n",
    "        fos = input(\"Enter the value of factor of safety : \")\n",
    "        fos = abs(int(fos))\n",
    "        mu = input(\"Enter the value of Poisson's ratio :\")\n",
    "        mu = float(mu)\n",
    "        E = 40 # 40MPa\n",
    "        \n",
    "        per_stress = yield_stress/fos\n",
    "\n",
    "        # Take input stress values\n",
    "        sigma_x = input(\"Enter the value of axial stress in X direction : \")\n",
    "        sigma_y = input(\"Enter the value of axial stress in Y direction : \")\n",
    "        tau_xy = input(\"Enter the value of shear stress : \")\n",
    "        print(\"\\n\")\n",
    "\n",
    "        # Convert str to int\n",
    "        sigma_x = int(sigma_x)\n",
    "        sigma_y = int(sigma_y)\n",
    "        tau_xy = int(tau_xy)\n",
    "\n",
    "        # Principal and maximum shear stress values\n",
    "        p_stress1 = (sigma_x + sigma_y) / 2 +  (((sigma_x - sigma_y) / 2)**2 + tau_xy **2)**0.5\n",
    "        p_stress2 = (sigma_x + sigma_y) / 2 -  (((sigma_x - sigma_y) / 2)**2 + tau_xy **2)**0.5\n",
    "        max_shear = (((sigma_x - sigma_y) / 2)**2 + tau_xy **2)**0.5\n",
    "        max_shear = (p_stress1 - p_stress2)/2\n",
    "\n",
    "        print(\"\\nThe value of Principal stresses are \",p_stress1 , \" and \", p_stress2)\n",
    "        print(\"The value of Principal strains are \",(p_stress1-mu*p_stress2)/E , \" and \", (p_stress2-mu*p_stress1)/E)\n",
    "        print(\"Permissible strain : \", per_stress/E)\n",
    "\n",
    "        # Check material will fail or not\n",
    "        if ((p_stress1-mu*p_stress2)/E or (p_stress2-mu*p_stress1)/E) > per_stress/E:\n",
    "            print(colored(\"The value of Principal strain is higher than the permissible limit. \\nMaterial will fail !\", 'red'))\n",
    "        else:\n",
    "            print(colored(\"The value of Principal strain is within the permissible limit. \\nMaterial will work !\", 'blue'))\n",
    "\n",
    "        # Plot vertical axis\n",
    "        y_limit = 1.25*per_stress/(1-mu)\n",
    "        a = np.linspace(-y_limit, y_limit,100)\n",
    "        b = a*0\n",
    "        plt.plot(b, a, color = 'k', linestyle='dashed')\n",
    "\n",
    "        # Plot horizontal axis\n",
    "        a = np.linspace(-y_limit, y_limit,100)\n",
    "        b = a*0\n",
    "        plt.plot(a, b, color = 'k', linestyle='dashed')\n",
    "\n",
    "        # Define the coordinates of the permissible stress rectangle\n",
    "        point1 = [per_stress/(1-mu), per_stress/(1-mu)]\n",
    "        point2 = [per_stress, 0]\n",
    "        point3 = [(per_stress)/(1+mu), -per_stress/(1+mu)]\n",
    "        point4 = [0, -per_stress]\n",
    "        point5 = [-per_stress/(1-mu), -per_stress/(1-mu)]  \n",
    "        point6 = [-per_stress, 0]\n",
    "        point7 = [-(per_stress)/(1+mu), per_stress/(1+mu)]\n",
    "        point8 = [0, per_stress]\n",
    "\n",
    "        # Plot the rectangle\n",
    "        plt.plot((point1[0], point2[0], point3[0], point4[0], point5[0], point6[0], point7[0], point8[0], point1[0]),\n",
    "                 (point1[1], point2[1], point3[1], point4[1], point5[1], point6[1], point7[1], point8[1], point1[1]),\n",
    "                 '-o', linestyle=\"--\", label = 'Permissible limit')\n",
    "        plt.plot((p_stress1), (p_stress2), 'o', color = 'r', label = 'P-stress')\n",
    "        plt.title(\"St. Venant’s Theory\")\n",
    "        plt.xlabel('\\u03C3'+ \"1\")\n",
    "        plt.ylabel('\\u03C3'+ \"2\")\n",
    "        plt.grid()\n",
    "        plt.legend()\n",
    "        \n",
    "    except Exception as e:\n",
    "        print(e)\n",
    "        print(\"Sorry, that's not a valid input !\")"
   ]
  },
  {
   "cell_type": "code",
   "execution_count": 95,
   "id": "20def61b",
   "metadata": {},
   "outputs": [
    {
     "name": "stdout",
     "output_type": "stream",
     "text": [
      "Enter the yield or ultimate stress of the material : 40\n",
      "Enter the value of factor of safety : 2\n",
      "Enter the value of Poisson's ratio :0.3\n",
      "Enter the value of axial stress in X direction : 15\n",
      "Enter the value of axial stress in Y direction : 10\n",
      "Enter the value of shear stress : 5\n",
      "\n",
      "\n",
      "\n",
      "The value of Principal stresses are  18.090169943749473  and  6.9098300562505255\n",
      "The value of Principal strains are  0.4004305231718579  and  0.0370694768281421\n",
      "Permissible strain :  0.5\n",
      "\u001b[34mThe value of Principal strain is within the permissible limit. \n",
      "Material will work !\u001b[0m\n"
     ]
    },
    {
     "data": {
      "image/png": "[encoded data removed]",
      "text/plain": [
       "<Figure size 432x288 with 1 Axes>"
      ]
     },
     "metadata": {
      "needs_background": "light"
     },
     "output_type": "display_data"
    }
   ],
   "source": [
    "st_venant()"
   ]
  },
  {
   "cell_type": "markdown",
   "id": "a44e95e1",
   "metadata": {},
   "source": [
    "### Maximum Distortion Energy theory or VONMISES AND HENCKY’S THEORY\n",
    "When the distortion energy generated within the structure is within the permissible limit.\n",
    "\n",
    "Mathematically, $(\\frac{1 +\\mu}{6E}) (\\sigma_1^2 + \\sigma_2^2 - \\sigma_1 \\sigma_2) \\leq (\\frac{1 +\\mu}{6E})  (\\frac{\\sigma_y}{fos})^2$ => structure will work  \n",
    "where, $\\sigma_1$ and $\\sigma_2$ are the principal stresses  \n",
    "$\\sigma_y$ is the yield stress and $fos$ is factor of safety  \n",
    "$E$ is the Young's Modulus of the material and $\\mu$ is the Poisson's ratio"
   ]
  },
  {
   "cell_type": "code",
   "execution_count": 97,
   "id": "c9a1db32",
   "metadata": {},
   "outputs": [],
   "source": [
    "def von_mises():\n",
    "    try:\n",
    "        # Take input yield stress and factor of stress\n",
    "        yield_stress = input(\"Enter the yield or ultimate stress of the material : \")\n",
    "        yield_stress = abs(int(yield_stress))\n",
    "        fos = input(\"Enter the value of factor of safety : \")\n",
    "        fos = abs(int(fos))\n",
    "        mu = input(\"Enter the value of Poisson's ratio :\")\n",
    "        mu = float(mu)\n",
    "        E = 40 # 40MPa\n",
    "        \n",
    "        per_stress = yield_stress/fos\n",
    "\n",
    "        # Take input stress values\n",
    "        sigma_x = input(\"Enter the value of axial stress in X direction : \")\n",
    "        sigma_y = input(\"Enter the value of axial stress in Y direction : \")\n",
    "        tau_xy = input(\"Enter the value of shear stress : \")\n",
    "        print(\"\\n\")\n",
    "\n",
    "        # Convert str to int\n",
    "        sigma_x = int(sigma_x)\n",
    "        sigma_y = int(sigma_y)\n",
    "        tau_xy = int(tau_xy)\n",
    "\n",
    "        # Principal and maximum shear stress values\n",
    "        p_stress1 = (sigma_x + sigma_y) / 2 +  (((sigma_x - sigma_y) / 2)**2 + tau_xy **2)**0.5\n",
    "        p_stress2 = (sigma_x + sigma_y) / 2 -  (((sigma_x - sigma_y) / 2)**2 + tau_xy **2)**0.5\n",
    "        max_shear = (((sigma_x - sigma_y) / 2)**2 + tau_xy **2)**0.5\n",
    "        max_shear = (p_stress1 - p_stress2)/2\n",
    "\n",
    "        print(\"\\nThe value of Principal stresses are \",p_stress1 , \" and \", p_stress2)\n",
    "        print(\"The value of distortion energy is \",\n",
    "              (np.square(p_stress1)+ np.square(p_stress2)- (p_stress1*p_stress2))*(1+mu)/(6*E))\n",
    "        print(\"Permissible distortion energy : \", np.square(per_stress)*(1+mu)/(3*E))\n",
    "\n",
    "        # Check material will fail or not\n",
    "        if (np.square(p_stress1)+ np.square(p_stress2)- (p_stress1*p_stress2)) > np.square(per_stress):\n",
    "            print(colored(\"The value of distortion energy is higher than the permissible limit. \\nMaterial will fail !\", 'red'))\n",
    "        else:\n",
    "            print(colored(\"The value of distortion energy is within the permissible limit. \\nMaterial will work !\", 'blue'))\n",
    "\n",
    "        # Plot vertical axis\n",
    "        y_limit = 1.25*per_stress\n",
    "        a = np.linspace(-y_limit, y_limit,100)\n",
    "        b = a*0\n",
    "        plt.plot(b, a, color = 'k', linestyle='dashed')\n",
    "\n",
    "        # Plot horizontal axis\n",
    "        a = np.linspace(-y_limit, y_limit,100)\n",
    "        b = a*0\n",
    "        plt.plot(a, b, color = 'k', linestyle='dashed')\n",
    "\n",
    "        # Define center and axes of the ellipse\n",
    "        u=0       #x-position of the center\n",
    "        v=0      #y-position of the center\n",
    "        a=np.sqrt(2)*per_stress      #radius on the x-axis\n",
    "        b=np.sqrt(2/3)*per_stress      #radius on the y-axis\n",
    "        t_rot=pi/4 #rotation angle\n",
    "\n",
    "        t = np.linspace(0, 2*pi, 100)\n",
    "        Ell = np.array([a*np.cos(t) , b*np.sin(t)])\n",
    "        R_rot = np.array([[cos(t_rot) , -sin(t_rot)],[sin(t_rot) , cos(t_rot)]])   #2-D rotation matrix\n",
    "\n",
    "        # Rotate the ellipse\n",
    "        Ell_rot = np.zeros((2,Ell.shape[1]))\n",
    "        for i in range(Ell.shape[1]):\n",
    "            Ell_rot[:,i] = np.dot(R_rot,Ell[:,i])\n",
    "\n",
    "        # Plot the ellipse\n",
    "        plt.plot( u+Ell_rot[0,:] , v+Ell_rot[1,:], linestyle=\"--\")\n",
    "        plt.plot((p_stress1), (p_stress2), 'o', color = 'r', label = 'P-stress')\n",
    "        plt.scatter([per_stress, 0, -per_stress, 0], [0, -per_stress, 0, per_stress],  color = '#1f77b4' ,label = 'Permissible limit')\n",
    "        plt.title(\"Von-Mises Theory\")\n",
    "        plt.xlabel('\\u03C3'+ \"1\")\n",
    "        plt.ylabel('\\u03C3'+ \"2\")\n",
    "        plt.grid()\n",
    "        plt.legend()\n",
    "        \n",
    "    except Exception as e:\n",
    "        print(e)\n",
    "        print(\"Sorry, that's not a valid input !\")"
   ]
  },
  {
   "cell_type": "code",
   "execution_count": 98,
   "id": "fe5d5e82",
   "metadata": {},
   "outputs": [
    {
     "name": "stdout",
     "output_type": "stream",
     "text": [
      "Enter the yield or ultimate stress of the material : 40\n",
      "Enter the value of factor of safety : 2\n",
      "Enter the value of Poisson's ratio :0.3\n",
      "Enter the value of axial stress in X direction : 15\n",
      "Enter the value of axial stress in Y direction : 10\n",
      "Enter the value of shear stress : 5\n",
      "\n",
      "\n",
      "\n",
      "The value of Principal stresses are  18.090169943749473  and  6.9098300562505255\n",
      "The value of distortion energy is  1.3541666666666665\n",
      "Permissible distortion energy :  4.333333333333333\n",
      "\u001b[34mThe value of distortion energy is within the permissible limit. \n",
      "Material will work !\u001b[0m\n"
     ]
    },
    {
     "data": {
      "image/png": "[encoded data removed]",
      "text/plain": [
       "<Figure size 432x288 with 1 Axes>"
      ]
     },
     "metadata": {
      "needs_background": "light"
     },
     "output_type": "display_data"
    }
   ],
   "source": [
    "von_mises()"
   ]
  },
  {
   "cell_type": "code",
   "execution_count": null,
   "id": "1bdfade6",
   "metadata": {},
   "outputs": [],
   "source": []
  }
 ],
 "metadata": {
  "kernelspec": {
   "display_name": "Python 3",
   "language": "python",
   "name": "python3"
  },
  "language_info": {
   "codemirror_mode": {
    "name": "ipython",
    "version": 3
   },
   "file_extension": ".py",
   "mimetype": "text/x-python",
   "name": "python",
   "nbconvert_exporter": "python",
   "pygments_lexer": "ipython3",
   "version": "3.8.8"
  }
 },
 "nbformat": 4,
 "nbformat_minor": 5
}
