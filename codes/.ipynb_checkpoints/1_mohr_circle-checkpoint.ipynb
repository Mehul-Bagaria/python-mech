{
 "cells": [
  {
   "cell_type": "markdown",
   "id": "60e22251",
   "metadata": {},
   "source": [
    "## Mohr circle and Principal stresses\n",
    "Python code that plots **Mohr circle** for given planar stress system and gives the **principal stresses** $\\sigma_{\\max },  \\sigma_{\\min }$ and **maximum shear** stress values.\n",
    "* Principal stresses:$\\sigma_{\\max }, \\sigma_{\\min }=\\frac{\\sigma_{x x}+\\sigma_{y y}}{2} \\pm \\sqrt{\\left(\\frac{\\sigma_{x x}-\\sigma_{y y}}{2}\\right)^{2}+\\tau_{x y}^{2}}$\n",
    "* Maximum inplane shear stress:$\\tau_{\\max }=\\frac{\\sigma_{\\max }-\\sigma_{\\min }}{2}$"
   ]
  },
  {
   "cell_type": "code",
   "execution_count": 1,
   "id": "c325724d",
   "metadata": {},
   "outputs": [],
   "source": [
    "import numpy as np\n",
    "import matplotlib.pyplot as plt\n",
    "%matplotlib inline"
   ]
  },
  {
   "cell_type": "code",
   "execution_count": 2,
   "id": "b3df9f51",
   "metadata": {},
   "outputs": [],
   "source": [
    "def Principal_stress(sigma_x, sigma_y, tau_xy):\n",
    "    p_stress1 = (sigma_x + sigma_y) / 2 +  (((sigma_x - sigma_y) / 2)**2 + tau_xy **2)**0.5\n",
    "    p_stress2 = (sigma_x + sigma_y) / 2 -  (((sigma_x - sigma_y) / 2)**2 + tau_xy **2)**0.5\n",
    "    max_shear = (((sigma_x - sigma_y) / 2)**2 + tau_xy **2)**0.5\n",
    "    print(\"The value of Principal stresses are \",p_stress1 , \" and \", p_stress2)"
   ]
  },
  {
   "cell_type": "code",
   "execution_count": 3,
   "id": "245559c7",
   "metadata": {},
   "outputs": [],
   "source": [
    "def Mohr_circle():    \n",
    "    try:\n",
    "        # Take input stress values\n",
    "        sigma_x = input(\"Enter the value of axial stress in X direction : \")\n",
    "        sigma_y = input(\"Enter the value of axial stress in Y direction : \")\n",
    "        tau_xy = input(\"Enter the value of shear stress : \")\n",
    "        print(\"\\n\")\n",
    "    \n",
    "        # Convert str to int\n",
    "        sigma_x = int(sigma_x)\n",
    "        sigma_y = int(sigma_y)\n",
    "        tau_xy = int(tau_xy)\n",
    "        \n",
    "        # Principal and maximum shear stress values\n",
    "        p_stress1 = (sigma_x + sigma_y) / 2 +  (((sigma_x - sigma_y) / 2)**2 + tau_xy **2)**0.5\n",
    "        p_stress2 = (sigma_x + sigma_y) / 2 -  (((sigma_x - sigma_y) / 2)**2 + tau_xy **2)**0.5\n",
    "        max_shear = (((sigma_x - sigma_y) / 2)**2 + tau_xy **2)**0.5\n",
    "\n",
    "        print(\"\\nThe value of Principal stresses are \",p_stress1 , \" and \", p_stress2)\n",
    "        radius = (p_stress1 - p_stress2) / 2\n",
    "        centre_x = (sigma_x + sigma_y) / 2\n",
    "        centre_y = 0\n",
    "\n",
    "        X = []\n",
    "        Y = []\n",
    "        X_new = []\n",
    "\n",
    "        for i in np.linspace( 0 , 2 * np.pi , 150 ):\n",
    "            x = radius * np.cos( i ) \n",
    "            x_new = x + centre_x\n",
    "            y = radius * np.sin( i )\n",
    "\n",
    "            X.append(x)\n",
    "            X_new.append(x_new)\n",
    "            Y.append(y)       \n",
    "\n",
    "        # Plot vertical axis\n",
    "        if radius > 0:\n",
    "            y_limit = 1.5*radius\n",
    "        else:\n",
    "            y_limit = p_stress1*0.5\n",
    "        a = np.linspace(-y_limit, y_limit,100)\n",
    "        b = a*0\n",
    "        plt.plot(b, a, color = 'b', linestyle='dashed')\n",
    "\n",
    "        # Plot horizontal axis\n",
    "        if p_stress2 < 0:\n",
    "            x_limit = p_stress1*1.2\n",
    "\n",
    "        elif radius == 0 :\n",
    "            x_limit = -p_stress1*0.5\n",
    "        else:\n",
    "            x_limit = -radius*0.5\n",
    "        a = np.linspace(x_limit, p_stress1*1.2, 100)\n",
    "        b = a*0\n",
    "        plt.plot(a, b, color = 'b', linestyle='dashed')\n",
    "\n",
    "        # Plot the mohr circle\n",
    "        plt.plot(X_new, Y, color = 'k')\n",
    "\n",
    "        # Plot principal stress\n",
    "        plt.plot((p_stress1), (0), 'o', color = 'b', label = 'P-stress 1')\n",
    "        plt.plot((p_stress2), (0), 'o', color = 'c', label = 'P-stress 2')\n",
    "\n",
    "        # Plot the centre of Mohr circle\n",
    "        plt.plot((centre_x), (centre_y), 'o', color = 'r', label = 'Centre')    \n",
    "\n",
    "        plt.xlabel('Sigma X')\n",
    "        plt.ylabel('Sigma Y')\n",
    "        plt.title('Mohr Circle')\n",
    "        plt.legend()\n",
    "\n",
    "        # Points on circle\n",
    "        point1 = [sigma_x,tau_xy ]\n",
    "        point2 = [sigma_y,-tau_xy]\n",
    "\n",
    "        # Points on the x-axis\n",
    "        point3 = [sigma_x, 0]\n",
    "        point4 = [sigma_y, 0]\n",
    "\n",
    "        # Define point's coordinates for line\n",
    "        x12_values = [point1[0], point2[0]]\n",
    "        y12_values = [point1[1], point2[1]]  \n",
    "        x31_values = [point3[0], point1[0]]\n",
    "        y31_values = [point3[1], point1[1]]\n",
    "        x42_values = [point4[0], point2[0]]\n",
    "        y42_values = [point4[1], point2[1]]\n",
    "\n",
    "        # Plot lines within the circle\n",
    "        plt.plot(x12_values, y12_values, color = 'g')\n",
    "        plt.plot(x31_values, y31_values, color = 'g')\n",
    "        plt.plot(x42_values, y42_values, color = 'g')\n",
    "\n",
    "\n",
    "        plt.plot()\n",
    "\n",
    "        # Export plots as png and pdf\n",
    "        plt.savefig(\"output/mohr_circle.png\")\n",
    "        plt.savefig(\"output/mohr_circle.pdf\")\n",
    "\n",
    "    except Exception as e:\n",
    "        print(e)\n",
    "        print(\"Sorry, that's not a valid input !\")"
   ]
  },
  {
   "cell_type": "code",
   "execution_count": 4,
   "id": "a7b41133",
   "metadata": {},
   "outputs": [
    {
     "name": "stdout",
     "output_type": "stream",
     "text": [
      "The value of Principal stresses are  1.0  and  1.0\n"
     ]
    }
   ],
   "source": [
    "Principal_stress(1,1,0)"
   ]
  },
  {
   "cell_type": "code",
   "execution_count": 5,
   "id": "cef5c1db",
   "metadata": {},
   "outputs": [
    {
     "name": "stdout",
     "output_type": "stream",
     "text": [
      "Enter the value of axial stress in X direction : 4\n",
      "Enter the value of axial stress in Y direction : 2\n",
      "Enter the value of shear stress : 1\n",
      "\n",
      "\n",
      "\n",
      "The value of Principal stresses are  4.414213562373095  and  1.5857864376269049\n"
     ]
    },
    {
     "data": {
      "image/png": "[encoded data removed]",
      "text/plain": [
       "<Figure size 432x288 with 1 Axes>"
      ]
     },
     "metadata": {
      "needs_background": "light"
     },
     "output_type": "display_data"
    }
   ],
   "source": [
    "Mohr_circle()"
   ]
  },
  {
   "cell_type": "code",
   "execution_count": 6,
   "id": "69b171d1",
   "metadata": {},
   "outputs": [
    {
     "name": "stdout",
     "output_type": "stream",
     "text": [
      "Enter the value of axial stress in X direction : 2\n",
      "Enter the value of axial stress in Y direction : 2\n",
      "Enter the value of shear stress : 0\n",
      "\n",
      "\n",
      "\n",
      "The value of Principal stresses are  2.0  and  2.0\n"
     ]
    },
    {
     "data": {
      "image/png": "[encoded data removed]",
      "text/plain": [
       "<Figure size 432x288 with 1 Axes>"
      ]
     },
     "metadata": {
      "needs_background": "light"
     },
     "output_type": "display_data"
    }
   ],
   "source": [
    "Mohr_circle()"
   ]
  },
  {
   "cell_type": "code",
   "execution_count": 7,
   "id": "4677a82b",
   "metadata": {},
   "outputs": [
    {
     "name": "stdout",
     "output_type": "stream",
     "text": [
      "Enter the value of axial stress in X direction : a\n",
      "Enter the value of axial stress in Y direction : b\n",
      "Enter the value of shear stress : c\n",
      "\n",
      "\n",
      "invalid literal for int() with base 10: 'a'\n",
      "Sorry, that's not a valid input !\n"
     ]
    }
   ],
   "source": [
    "Mohr_circle()"
   ]
  }
 ],
 "metadata": {
  "kernelspec": {
   "display_name": "Python 3",
   "language": "python",
   "name": "python3"
  },
  "language_info": {
   "codemirror_mode": {
    "name": "ipython",
    "version": 3
   },
   "file_extension": ".py",
   "mimetype": "text/x-python",
   "name": "python",
   "nbconvert_exporter": "python",
   "pygments_lexer": "ipython3",
   "version": "3.8.8"
  }
 },
 "nbformat": 4,
 "nbformat_minor": 5
}
